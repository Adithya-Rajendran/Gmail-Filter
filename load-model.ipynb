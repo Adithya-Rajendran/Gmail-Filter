{
 "cells": [
  {
   "cell_type": "markdown",
   "id": "6181b7b6",
   "metadata": {},
   "source": [
    "# Imports"
   ]
  },
  {
   "cell_type": "code",
   "execution_count": 33,
   "id": "ad0c3c24",
   "metadata": {},
   "outputs": [],
   "source": [
    "import joblib\n",
    "import re"
   ]
  },
  {
   "cell_type": "markdown",
   "id": "dd8534f4",
   "metadata": {},
   "source": [
    "# --- 1. Load the Saved Model and Vectorizer ---"
   ]
  },
  {
   "cell_type": "code",
   "execution_count": 34,
   "id": "98b33964",
   "metadata": {},
   "outputs": [
    {
     "name": "stdout",
     "output_type": "stream",
     "text": [
      "Model and vectorizer loaded successfully.\n"
     ]
    }
   ],
   "source": [
    "try:\n",
    "    model = joblib.load('model/spam_classifier_model.pkl')\n",
    "    vectorizer = joblib.load('model/tfidf_vectorizer.pkl')\n",
    "    print(\"Model and vectorizer loaded successfully.\")\n",
    "except FileNotFoundError:\n",
    "    print(\"Error: Model or vectorizer files not found.\")\n",
    "    print(\"Please run the training script first to create these files.\")\n",
    "    exit()"
   ]
  },
  {
   "cell_type": "markdown",
   "id": "37bdbf9e",
   "metadata": {},
   "source": [
    "# --- 2. Define the Preprocessing and Prediction Functions ---"
   ]
  },
  {
   "cell_type": "code",
   "execution_count": 35,
   "id": "1cc7356f",
   "metadata": {},
   "outputs": [],
   "source": [
    "def preprocess_text(text):\n",
    "    \"\"\"Applies the exact same cleaning steps used during training.\"\"\"\n",
    "    text = text.lower()\n",
    "    text = re.sub(r'[^a-zA-Z\\s]', '', text)\n",
    "    text = re.sub(r'\\s+', ' ', text).strip()\n",
    "    return text\n",
    "\n",
    "def classify_email(subject, body):\n",
    "    \"\"\"\n",
    "    Takes an email's subject and body, preprocesses them, and predicts\n",
    "    if it is spam (1) or not spam (0).\n",
    "    \"\"\"\n",
    "    full_text = subject + \" \" + body\n",
    "    cleaned_text = preprocess_text(full_text)\n",
    "    \n",
    "    text_vector = vectorizer.transform([cleaned_text])\n",
    "    \n",
    "    prediction = model.predict(text_vector)\n",
    "    probability = model.predict_proba(text_vector)\n",
    "    \n",
    "    # Get the probability of the email being spam (class 1)\n",
    "    if prediction == 1:\n",
    "        return f\"Prediction: SPAM (Confidence: {probability[0][1]:.2%})\"\n",
    "    else:\n",
    "        return f\"Prediction: NOT SPAM (Confidence: {probability[0][0]:.2%})\""
   ]
  },
  {
   "cell_type": "markdown",
   "id": "10e71250",
   "metadata": {},
   "source": [
    "# --- 3. Query the Model with Example Emails ---"
   ]
  },
  {
   "cell_type": "code",
   "execution_count": 36,
   "id": "84ff646a",
   "metadata": {},
   "outputs": [
    {
     "name": "stdout",
     "output_type": "stream",
     "text": [
      "\n",
      "--- Classifying New Emails ---\n",
      "\n",
      "Email 1:\n",
      "Subject: URGENT: You have won a prize!\n",
      "Body: Congratulations, you have been selected to win a free vacation. Click here to claim now.\n",
      "Prediction: SPAM (Confidence: 90.45%)\n",
      "\n",
      "Email 2:\n",
      "Subject: Meeting Reminder\n",
      "Body: Hi team, just a reminder that our quarterly review meeting is scheduled for tomorrow at 10 AM. Please find the agenda attached.\n",
      "Prediction: NOT SPAM (Confidence: 75.63%)\n"
     ]
    }
   ],
   "source": [
    "# Example 1: A classic spam email\n",
    "spam_subject = \"URGENT: You have won a prize!\"\n",
    "spam_body = \"Congratulations, you have been selected to win a free vacation. Click here to claim now.\"\n",
    "\n",
    "# Example 2: A typical legitimate email\n",
    "ham_subject = \"Meeting Reminder\"\n",
    "ham_body = \"Hi team, just a reminder that our quarterly review meeting is scheduled for tomorrow at 10 AM. Please find the agenda attached.\"\n",
    "\n",
    "print(\"\\n--- Classifying New Emails ---\")\n",
    "print(f\"\\nEmail 1:\\nSubject: {spam_subject}\\nBody: {spam_body}\")\n",
    "print(classify_email(spam_subject, spam_body))\n",
    "\n",
    "print(f\"\\nEmail 2:\\nSubject: {ham_subject}\\nBody: {ham_body}\")\n",
    "print(classify_email(ham_subject, ham_body))"
   ]
  }
 ],
 "metadata": {
  "kernelspec": {
   "display_name": ".venv",
   "language": "python",
   "name": "python3"
  },
  "language_info": {
   "codemirror_mode": {
    "name": "ipython",
    "version": 3
   },
   "file_extension": ".py",
   "mimetype": "text/x-python",
   "name": "python",
   "nbconvert_exporter": "python",
   "pygments_lexer": "ipython3",
   "version": "3.10.12"
  }
 },
 "nbformat": 4,
 "nbformat_minor": 5
}
